{
 "cells": [
  {
   "cell_type": "code",
   "execution_count": 1,
   "metadata": {},
   "outputs": [],
   "source": [
    "import numpy as np\n",
    "from scipy.optimize import least_squares\n",
    "import matplotlib.pyplot as plt\n",
    "import time\n",
    "from PIL import Image\n",
    "import random\n",
    "from scipy import optimize\n",
    "import sympy as sp"
   ]
  },
  {
   "cell_type": "markdown",
   "metadata": {},
   "source": [
    "Firstly the notation functions as described in chapter 2, named accrodingly"
   ]
  },
  {
   "cell_type": "code",
   "execution_count": 2,
   "metadata": {},
   "outputs": [],
   "source": [
    "def tau(n,m):\n",
    "    return ((n+m)+1)*(n+m)/2 + m\n",
    "\n",
    "def tau_inv(k):\n",
    "    \n",
    "    def fl(k):\n",
    "        return np.floor((1+np.sqrt(1+8*k))/2) - 1\n",
    "    \n",
    "    i = fl(k)- (k - (fl(k)*(fl(k)+1)/2) )\n",
    "    j = k - (fl(k)*(fl(k)+1)/2)\n",
    "    \n",
    "    return i,j\n",
    "\n",
    "def add_inv(n):\n",
    "\n",
    "    ans = np.zeros((n+1,2))\n",
    "    \n",
    "    for i in range(len(ans)):\n",
    "        \n",
    "        ans[i,0] = i\n",
    "        ans[i,1] = n - i\n",
    "        \n",
    "    return ans\n",
    "\n",
    "def trinomial ( i, j, k ):\n",
    "\n",
    "#This function was taken from the internet \n",
    "     \n",
    "#  Licensing:\n",
    "#\n",
    "#    This code is distributed under the GNU LGPL license.\n",
    "#\n",
    "#  Modified:\n",
    "#\n",
    "#    11 April 2015\n",
    "#\n",
    "#  Author:\n",
    "#\n",
    "#    John Burkardt\n",
    "#\n",
    "    \n",
    "    i = int(i)\n",
    "    j = int(j)\n",
    "    k = int(k)\n",
    "\n",
    "    from sys import exit\n",
    "\n",
    "    if ( i < 0 or j < 0 or k < 0 ):\n",
    "        print ( '' )\n",
    "        print ( 'TRINOMIAL - Fatal error!' )\n",
    "        print ( '  Negative factor encountered.' )\n",
    "        exit ( 'TRINOMIAL - Fatal error!' )\n",
    "\n",
    "    value = 1\n",
    "\n",
    "    t = 1\n",
    "\n",
    "    for l in range ( 1, i + 1 ):\n",
    "        #   value = value * t // l\n",
    "        t = t + 1\n",
    "\n",
    "    for l in range ( 1, j + 1 ):\n",
    "        value = value * t // l\n",
    "        t = t + 1\n",
    "\n",
    "    for l in range ( 1, k + 1 ):\n",
    "        value = value * t // l\n",
    "        t = t + 1\n",
    "\n",
    "    return value"
   ]
  },
  {
   "cell_type": "markdown",
   "metadata": {},
   "source": [
    "We may construct the matrix $A_r$ for an affine function now"
   ]
  },
  {
   "cell_type": "code",
   "execution_count": 3,
   "metadata": {},
   "outputs": [],
   "source": [
    "def A_r(a,b,c,d,e,f,N=6,rational= False):\n",
    "    \n",
    "    A = np.zeros((N,N))\n",
    "    \n",
    "    if rational:\n",
    "        \n",
    "         A = sp.zeros(N,N)\n",
    "    \n",
    "    \n",
    "    for u in range(N):\n",
    "        for v in range(N):\n",
    "\n",
    "            n,m = tau_inv(u)\n",
    "\n",
    "            i_i, j_j = tau_inv(v)\n",
    "\n",
    "            i_i = add_inv(int(i_i))\n",
    "\n",
    "            j_j = add_inv(int(j_j))\n",
    "\n",
    "            for i in range(i_i.shape[0]):\n",
    "\n",
    "                for j in range(j_j.shape[0]):\n",
    "\n",
    "                    if (i_i[i,0] + j_j[j,0]<=n):\n",
    "                        \n",
    "                        if (i_i[i,1] + j_j[j,1]<=m):\n",
    "                            \n",
    "                            i = int(i)\n",
    "                            \n",
    "                            j = int(j)\n",
    "\n",
    "                            B = trinomial( i, j, n-i-j )*trinomial( int(i_i[i,1]), int(j_j[j,1]), m-int(i_i[i,1])-int(j_j[j,1]) )\n",
    "                            \n",
    "                            \n",
    "                            C = a**i * c**int(i_i[i,1]) * b**j * d**int(j_j[j,1]) * e**(int(n-i-j)) * f**(int(m -i_i[i,1]-j_j[j,1]))\n",
    "                                                        \n",
    "                            A[u,v] += int(B)*C\n",
    "          \n",
    "    return A"
   ]
  },
  {
   "cell_type": "markdown",
   "metadata": {},
   "source": [
    "Test this function in floating point."
   ]
  },
  {
   "cell_type": "code",
   "execution_count": 4,
   "metadata": {},
   "outputs": [
    {
     "data": {
      "text/plain": [
       "array([[1.        , 0.        , 0.        , 0.        , 0.        ,\n",
       "        0.        ],\n",
       "       [0.        , 0.33333333, 0.        , 0.        , 0.        ,\n",
       "        0.        ],\n",
       "       [0.        , 0.5       , 0.5       , 0.        , 0.        ,\n",
       "        0.        ],\n",
       "       [0.        , 0.        , 0.        , 0.11111111, 0.        ,\n",
       "        0.        ],\n",
       "       [0.        , 0.        , 0.        , 0.16666667, 0.16666667,\n",
       "        0.        ],\n",
       "       [0.        , 0.        , 0.        , 0.25      , 0.5       ,\n",
       "        0.25      ]])"
      ]
     },
     "execution_count": 4,
     "metadata": {},
     "output_type": "execute_result"
    }
   ],
   "source": [
    "A_r(1/3,0,1/2,1/2,0,0)"
   ]
  },
  {
   "cell_type": "markdown",
   "metadata": {},
   "source": [
    "Now in rational arithmetic"
   ]
  },
  {
   "cell_type": "code",
   "execution_count": 5,
   "metadata": {},
   "outputs": [
    {
     "data": {
      "text/plain": [
       "Matrix([\n",
       "[1,   0,   0,   0,   0,   0],\n",
       "[0, 1/3,   0,   0,   0,   0],\n",
       "[0, 1/2, 1/2,   0,   0,   0],\n",
       "[0,   0,   0, 1/9,   0,   0],\n",
       "[0,   0,   0, 1/6, 1/6,   0],\n",
       "[0,   0,   0, 1/4, 1/2, 1/4]])"
      ]
     },
     "execution_count": 5,
     "metadata": {},
     "output_type": "execute_result"
    }
   ],
   "source": [
    "A_r(sp.Rational(1,3),0,sp.Rational(1,2),sp.Rational(1,2),0,0,N=6,rational=True) "
   ]
  },
  {
   "cell_type": "code",
   "execution_count": 6,
   "metadata": {},
   "outputs": [],
   "source": [
    "def Phi(a_l,b_l,c_l,d_l,e_l,f_l,p_l,it = 1,n = 6,rational = False):\n",
    "    \n",
    "    assert len(a_l) == len(b_l) and len(a_l) == len(p_l)\n",
    "    \n",
    "    mat = np.zeros((n,n))\n",
    "    \n",
    "    if rational:\n",
    "        \n",
    "        mat = sp.zeros(n,n)\n",
    "    \n",
    "    N = len(a_l)\n",
    "    \n",
    "    for i in range(N):\n",
    "        \n",
    "        mat = p_l[i]*A_r(a_l[i],b_l[i],c_l[i],d_l[i],e_l[i],f_l[i],N=n,rational = rational) + mat\n",
    "    \n",
    "    if not rational:\n",
    "    \n",
    "        mat = np.linalg.matrix_power(mat,it)\n",
    "        \n",
    "    return mat"
   ]
  },
  {
   "cell_type": "code",
   "execution_count": 7,
   "metadata": {},
   "outputs": [],
   "source": [
    "def moments(a_l,b_l,c_l,d_l,e_l,f_l,p_l,it = 20,n=6,direct = False):\n",
    "    \n",
    "    if direct:\n",
    "        \n",
    "        tmp = Phi(a_l,b_l,c_l,d_l,e_l,f_l,p_l,it = 1,n=n, rational = True) - sp.eye(n)\n",
    "        \n",
    "        tmp = tmp.nullspace()\n",
    "        \n",
    "        if len(tmp) != 0:\n",
    "            \n",
    "            'Fire!! Nullspace larger than expected'\n",
    "        \n",
    "        ans = (tmp[0])/tmp[0][0]\n",
    "        \n",
    "        return ans\n",
    "    \n",
    "    return Phi(a_l,b_l,c_l,d_l,e_l,f_l,p_l,it = it,n=n)@np.ones(n)\n"
   ]
  },
  {
   "cell_type": "markdown",
   "metadata": {},
   "source": [
    "Cantor set moments calculated iteratively and in rational arithmetic"
   ]
  },
  {
   "cell_type": "code",
   "execution_count": 8,
   "metadata": {},
   "outputs": [
    {
     "data": {
      "text/plain": [
       "array([1.   , 0.5  , 0.   , 0.375, 0.   , 0.   ])"
      ]
     },
     "execution_count": 8,
     "metadata": {},
     "output_type": "execute_result"
    }
   ],
   "source": [
    "moments([1/3,1/3],[0,0],[0,0],[0,0],[0,2/3],[0,0],[1/2,1/2],it = 30)"
   ]
  },
  {
   "cell_type": "code",
   "execution_count": 9,
   "metadata": {},
   "outputs": [
    {
     "data": {
      "text/plain": [
       "Matrix([\n",
       "[  1],\n",
       "[1/2],\n",
       "[  0],\n",
       "[3/8],\n",
       "[  0],\n",
       "[  0]])"
      ]
     },
     "execution_count": 9,
     "metadata": {},
     "output_type": "execute_result"
    }
   ],
   "source": [
    "moments([sp.Rational(1,3),sp.Rational(1,3)],[0,0],[0,0],[0,0],[0,sp.Rational(2,3)],[0,0],[sp.Rational(1,2),sp.Rational(1,2)],direct = True)"
   ]
  },
  {
   "cell_type": "markdown",
   "metadata": {},
   "source": [
    "Now we have a function to compute the Chaos Game and the picture of our fractal measure"
   ]
  },
  {
   "cell_type": "code",
   "execution_count": 10,
   "metadata": {},
   "outputs": [],
   "source": [
    "def chaos(IFS,prob,it = 10000,imgxy = 480):\n",
    "    \n",
    "    \n",
    "    N = len(prob)\n",
    "    \n",
    "    image = Image.new(\"RGB\", (imgxy, imgxy),\"white\")\n",
    "    \n",
    "    xa = -0.2\n",
    "    xb = 1.2\n",
    "    ya = -0.2\n",
    "    yb = 1.2\n",
    "\n",
    "    #starting values\n",
    "    x=np.random.rand()#0.5\n",
    "    y=np.random.rand()#0.5 \n",
    "    \n",
    "    X = np.zeros((it,2))\n",
    "    \n",
    "    for i in range(it):\n",
    "        \n",
    "        p = random.random()\n",
    "        \n",
    "        P = prob[0]\n",
    "        \n",
    "        for j in range(N):\n",
    "            \n",
    "            if p < P:\n",
    "                \n",
    "                \n",
    "                x0 = IFS[j]*x + IFS[(N) + j]*y + IFS[4*(N) + j]\n",
    "                \n",
    "                y = IFS[2*(N) + j]*x + IFS[3*(N) + j]*y + IFS[5*(N) + j]\n",
    "                \n",
    "                x = x0\n",
    "                \n",
    "                X[i,0] = x\n",
    "                X[i,1] = y\n",
    "                \n",
    "                \n",
    "                if x>xa and x<xb and y>ya and y<yb:\n",
    "                    \n",
    "                    jx = int((x - xa) / (xb - xa) * (imgxy - 1)) \n",
    "                    jy = (imgxy - 1) - int((y - ya) / (yb - ya) * (imgxy - 1))\n",
    "                \n",
    "                    if j == 0:\n",
    "                        image.putpixel((jx, jy), (255,0,0,255))\n",
    "                    elif j == 1:\n",
    "                        image.putpixel((jx, jy), (255,255,0,255))\n",
    "                    else: \n",
    "                        image.putpixel((jx, jy), (0,0,255,255))\n",
    "                \n",
    "                \n",
    "                break\n",
    "                \n",
    "            else: \n",
    "                P = P + prob[j+1]\n",
    "    \n",
    "    plt.show(image)\n",
    "        \n",
    "    return image, X"
   ]
  },
  {
   "cell_type": "markdown",
   "metadata": {},
   "source": [
    "Get function to generate Generalised Sierpinski Triangle"
   ]
  },
  {
   "cell_type": "code",
   "execution_count": 11,
   "metadata": {},
   "outputs": [],
   "source": [
    "def GSP(a = 1.1, b = 0.85, par = 'FFF', imgxy = 480, it = 50000, IFS = False):\n",
    "    \n",
    "    #co ordinates of triangles third vertex\n",
    "    Cy=(float)(0.5*np.sqrt(-1 + 2*a**2 - a**4 + 2*b**2 + 2*a**2*b**2 - b**4))\n",
    "    Cx=(float)(0.5*(1 - a**2 + b**2))\n",
    "\n",
    "    #angles for roatation\n",
    "    cosA=(float)(Cx/b)\n",
    "    sinA=(float)(Cy/b)\n",
    "    cosB=(float)((1.0-Cx)/a)\n",
    "    sinB=(float)(Cy/a)\n",
    "    \n",
    "    #view box\n",
    "    xa = min(-0.2,Cx-0.2)\n",
    "    xb = max(1.2,Cx+0.2)\n",
    "    ya =-0.2\n",
    "    yb = max(1.2,Cy+0.2)\n",
    "    \n",
    "    #starting values\n",
    "    x=0.0\n",
    "    y=0.0\n",
    "    \n",
    "    #image \n",
    "    image = Image.new(\"RGB\", (imgxy, imgxy),\"white\")\n",
    "\n",
    "    if par == 'FFF':\n",
    "        \n",
    "        alphaFFF=(float)(-(-1 + a**2 - b**2))/(float)(2*b)\n",
    "        betaFFF=(float)(-(-1 - a**2 + b**2))/(float)(2*a)\n",
    "        gammaFFF=(float)(-(1 - a**2 - b**2))/(float)(2*a*b)\n",
    "        \n",
    "        detaFFF=alphaFFF*alphaFFF\n",
    "        detbFFF=betaFFF*betaFFF\n",
    "        detgFFF=gammaFFF*gammaFFF\n",
    "        pnormFFF=(detaFFF+detbFFF+detgFFF)\n",
    "        paFFF=(float)(detaFFF)/(float)(pnormFFF)\n",
    "        pbFFF=(float)(detbFFF)/(float)(pnormFFF)\n",
    "        pgFFF=(float)(detgFFF)/(float)(pnormFFF)\n",
    "        \n",
    "        FFF=[[cosA*alphaFFF,sinA*alphaFFF,sinA*alphaFFF,-cosA*alphaFFF,0.0,0.0,paFFF],[betaFFF*cosB,-betaFFF*sinB,-betaFFF*sinB,-betaFFF*cosB,1.0-betaFFF*cosB,sinB*betaFFF,pbFFF],[-(gammaFFF*(cosA*cosB + sinA*sinB)),gammaFFF*(-(cosB*sinA) + cosA*sinB),-(gammaFFF*(cosB*sinA - cosA*sinB)),gammaFFF*(cosA*cosB + sinA*sinB),1.0-betaFFF*cosB,betaFFF*sinB,pgFFF]]\n",
    "\n",
    "        mat=FFF\n",
    "        \n",
    "        def f(d) : \n",
    "            return [alphaFFF**d[0]+betaFFF**d[0]+gammaFFF**d[0]-1]\n",
    "        \n",
    "        alpha = alphaFFF\n",
    "        \n",
    "    if par == 'FFN':\n",
    "        \n",
    "        alphaNFF=(float)(b)/float((a**2 + b**2))\n",
    "        betaNFF=(float)(a)/(float)(a**2 + b**2)\n",
    "        gammaNFF=-1.0*(float)(1.0-a**2-b**2)/(float)(a**2 + b**2)\n",
    "        \n",
    "        detaNFF=alphaNFF*alphaNFF\n",
    "        detbNFF=betaNFF*betaNFF\n",
    "        detgNFF=gammaNFF*gammaNFF\n",
    "        pnormNFF=(detaNFF+detbNFF+detgNFF)\n",
    "        paNFF=(float)(detaNFF)/(float)(pnormNFF)\n",
    "        pbNFF=(float)(detbNFF)/(float)(pnormNFF)\n",
    "        pgNFF=(float)(detgNFF)/(float)(pnormNFF)\n",
    "        \n",
    "        NFF=[[cosA*alphaNFF,sinA*alphaNFF,sinA*alphaNFF,-cosA*alphaNFF,0.0,0.0,paNFF],[betaNFF*cosB,-betaNFF*sinB,-betaNFF*sinB,-betaNFF*cosB,1.0-betaNFF*cosB,sinB*betaNFF,pbNFF],[gammaNFF,0.0,0.0,gammaNFF,(1.0-gammaNFF)*Cx,(1.0-gammaNFF)*Cy,pgNFF]]\n",
    "        \n",
    "        mat=NFF\n",
    "        \n",
    "        def f(d) : \n",
    "            return [alphaNFF**d[0]+betaNFF**d[0]+gammaNFF**d[0]-1]\n",
    "        \n",
    "        alpha = alphaFFN\n",
    "        \n",
    "    if par == 'FNN':\n",
    "        \n",
    "        alphaNNF=(float)(b/(1.0 + b**2))\n",
    "        betaNNF=(float)(1.0/(1.0 + b**2))\n",
    "        gammaNNF=(float)(b**2/(1.0 + b**2))\n",
    " \n",
    "        \n",
    "        detaNNF=alphaNNF*alphaNNF\n",
    "        detbNNF=betaNNF*betaNNF\n",
    "        detgNNF=gammaNNF*gammaNNF\n",
    "        pnormNNF=(detaNNF+detbNNF+detgNNF)\n",
    "        paNNF=(float)(detaNNF)/(float)(pnormNNF)\n",
    "        pbNNF=(float)(detbNNF)/(float)(pnormNNF)\n",
    "        pgNNF=(float)(detgNNF)/(float)(pnormNNF)\n",
    "        \n",
    "        NNF=[[cosA*alphaNNF,sinA*alphaNNF,sinA*alphaNNF,-cosA*alphaNNF,0.0,0.0,paNNF],[betaNNF,0.0,0.0,betaNNF,(1.0-betaNNF),0,pbNNF],[gammaNNF,0.0,0.0,gammaNNF,(1.0-gammaNNF)*Cx,(1.0-gammaNNF)*Cy,pgNNF]]\n",
    "\n",
    "        mat=NNF \n",
    "        \n",
    "        def f(d) : \n",
    "            return [alphaNNF**d[0]+betaNNF**d[0]+gammaNNF**d[0]-1] \n",
    "        \n",
    "        alpha = alphaNNF\n",
    "        \n",
    "    if par == 'NNN':\n",
    "        NNN=[[0.5,0.0,0.0,0.5,0.0,0.0,0.33333],[0.5,0.0,0.0,0.5,0.5,0,0.33333],[0.5,0.0,0.0,0.5,0.5*Cx,0.5*Cy,0.333333]]\n",
    "    \n",
    "        mat=NNN \n",
    "        \n",
    "        def f(d) : \n",
    "            return [(0.5)**d[0]+(0.5)**d[0]+(0.5)**d[0]-1] \n",
    "        \n",
    "        alpha = 1/2\n",
    "        \n",
    "\n",
    "    for k in range(it):\n",
    "\n",
    "        p=random.random() \n",
    "        if p <= mat[0][6]:\n",
    "            i=0\n",
    "        elif p <= mat[0][6] + mat[1][6]:\n",
    "            i=1\n",
    "        else:\n",
    "            i=2\n",
    "\n",
    "        x0 = x * mat[i][0] + y * mat[i][1] + mat[i][4] \n",
    "        y  = x * mat[i][2] + y * mat[i][3] + mat[i][5] \n",
    "        x = x0 \n",
    "        jx = int((x - xa) / (xb - xa) * (imgxy - 1)) \n",
    "        jy = (imgxy - 1) - int((y - ya) / (yb - ya) * (imgxy - 1))\n",
    "\n",
    "        if i==2:\n",
    "             image.putpixel((jx, jy), (255,0,0,255))\n",
    "        elif i==1: \n",
    "             image.putpixel((jx, jy), (255,255,0,255))\n",
    "        elif i==0:\n",
    "             image.putpixel((jx, jy), (0,0,255,255))\n",
    "                \n",
    "    if IFS:\n",
    "        \n",
    "        return mat \n",
    "    \n",
    "    return image\n"
   ]
  },
  {
   "cell_type": "markdown",
   "metadata": {},
   "source": [
    "Make a function so that the format of IFS is the same"
   ]
  },
  {
   "cell_type": "code",
   "execution_count": 12,
   "metadata": {},
   "outputs": [],
   "source": [
    "def convertIFS(IFS_mat):\n",
    "    \n",
    "    N = len(IFS_mat)\n",
    "    \n",
    "    ans = np.zeros(N*6)\n",
    "    \n",
    "    prob = np.zeros(N)\n",
    "    \n",
    "    r = 0\n",
    "    for j in range(7):\n",
    "        for i in range(N):\n",
    "            if j != 6:\n",
    "                ans[r]=IFS_mat[i][j]\n",
    "                r = r+1\n",
    "            prob[i] = IFS_mat[i][6]\n",
    "            \n",
    "    return ans,prob"
   ]
  },
  {
   "cell_type": "code",
   "execution_count": 13,
   "metadata": {},
   "outputs": [],
   "source": [
    "IFS_STEEM, STEEM_P = convertIFS(GSP(IFS = True))"
   ]
  },
  {
   "cell_type": "code",
   "execution_count": 14,
   "metadata": {},
   "outputs": [
    {
     "data": {
      "text/plain": [
       "array([ 0.09088452,  0.45716038, -0.4519551 ,  0.28744481, -0.49816139,\n",
       "       -0.21071657,  0.28744481, -0.49816139, -0.21071657, -0.09088452,\n",
       "       -0.45716038,  0.4519551 ,  0.        ,  0.54283962,  0.54283962,\n",
       "        0.        ,  0.49816139,  0.49816139])"
      ]
     },
     "execution_count": 14,
     "metadata": {},
     "output_type": "execute_result"
    }
   ],
   "source": [
    "IFS_STEEM"
   ]
  },
  {
   "cell_type": "code",
   "execution_count": 15,
   "metadata": {},
   "outputs": [
    {
     "data": {
      "text/plain": [
       "array([0.11407481, 0.57381043, 0.31211477])"
      ]
     },
     "execution_count": 15,
     "metadata": {},
     "output_type": "execute_result"
    }
   ],
   "source": [
    "STEEM_P"
   ]
  },
  {
   "cell_type": "code",
   "execution_count": 27,
   "metadata": {},
   "outputs": [],
   "source": [
    "img, X_STEEM  = chaos(IFS_STEEM,prob = STEEM_P,it = 1000000)"
   ]
  },
  {
   "cell_type": "markdown",
   "metadata": {},
   "source": [
    "The above maps produce `uniform measure' on a Steemson triangle"
   ]
  },
  {
   "cell_type": "code",
   "execution_count": 28,
   "metadata": {},
   "outputs": [
    {
     "data": {
      "image/png": "[encoded data removed]",
      "text/plain": [
       "<PIL.Image.Image image mode=RGB size=480x480 at 0x1FB9B705048>"
      ]
     },
     "execution_count": 28,
     "metadata": {},
     "output_type": "execute_result"
    }
   ],
   "source": [
    "img"
   ]
  },
  {
   "cell_type": "markdown",
   "metadata": {},
   "source": [
    "Make a function that takes the IFS parameters from GSP and puts them into the moment format"
   ]
  },
  {
   "cell_type": "code",
   "execution_count": 29,
   "metadata": {},
   "outputs": [],
   "source": [
    "def mom_wrap(x,prob,it = 20,n=21,direct = False):\n",
    "    \n",
    "    assert len(x)%6==0\n",
    "    \n",
    "    N = len(x)\n",
    "    \n",
    "    a_l = x[:N//6]\n",
    "    \n",
    "    b_l = x[1*(N//6):2*(N//6)]\n",
    "    \n",
    "    c_l = x[2*(N//6):3*(N//6)]\n",
    "    \n",
    "    d_l = x[3*(N//6):4*(N//6)]\n",
    "    \n",
    "    e_l = x[4*(N//6):5*(N//6)]\n",
    "    \n",
    "    f_l = x[5*(N//6):]\n",
    "    \n",
    "    p_l =  prob\n",
    "    \n",
    "    return moments(a_l,b_l,c_l,d_l,e_l,f_l,p_l,it = it,n=n,direct = direct)"
   ]
  },
  {
   "cell_type": "markdown",
   "metadata": {},
   "source": [
    "Compute the moments in both the fixed and iterative way"
   ]
  },
  {
   "cell_type": "code",
   "execution_count": 30,
   "metadata": {},
   "outputs": [
    {
     "data": {
      "text/plain": [
       "array([[1.00000000000000],\n",
       "       [0.457999968063630],\n",
       "       [0.260960601210938],\n",
       "       [0.271009962111420],\n",
       "       [0.0995842785556266],\n",
       "       [0.113191196637661],\n",
       "       [0.184106973373980],\n",
       "       [0.0474427803890055],\n",
       "       [0.0393197038207555],\n",
       "       [0.0587510249123115],\n",
       "       [0.135876998941933],\n",
       "       [0.0264760327157712],\n",
       "       [0.0162611286845916],\n",
       "       [0.0193435942525520],\n",
       "       [0.0335681438678902],\n",
       "       [0.105854773140229],\n",
       "       [0.0165114393936808],\n",
       "       [0.00780212122482904],\n",
       "       [0.00729221872965016],\n",
       "       [0.0106822908345115],\n",
       "       [0.0203948804197367]], dtype=object)"
      ]
     },
     "execution_count": 30,
     "metadata": {},
     "output_type": "execute_result"
    }
   ],
   "source": [
    "STEEM_DIRECT_M = np.array(mom_wrap(IFS_STEEM, STEEM_P,direct = True,n=21))\n",
    "STEEM_DIRECT_M"
   ]
  },
  {
   "cell_type": "code",
   "execution_count": 31,
   "metadata": {},
   "outputs": [
    {
     "data": {
      "text/plain": [
       "array([1.        , 0.45799997, 0.2609606 , 0.27100996, 0.09958428,\n",
       "       0.1131912 , 0.18410698, 0.04744278, 0.0393197 , 0.05875103,\n",
       "       0.135877  , 0.02647603, 0.01626113, 0.01934359, 0.03356814,\n",
       "       0.10585478, 0.01651144, 0.00780212, 0.00729222, 0.01068229,\n",
       "       0.02039488])"
      ]
     },
     "execution_count": 31,
     "metadata": {},
     "output_type": "execute_result"
    }
   ],
   "source": [
    "mom_wrap(IFS_STEEM, STEEM_P,it = 20, n = 21)"
   ]
  },
  {
   "cell_type": "code",
   "execution_count": 32,
   "metadata": {},
   "outputs": [],
   "source": [
    "plot = np.zeros(20)\n",
    "\n",
    "for i in range(20):\n",
    "    \n",
    "    error = np.max(np.abs(STEEM_DIRECT_M.T - mom_wrap(IFS_STEEM, STEEM_P,it = i, n = 21)))\n",
    "    \n",
    "    plot[i] = error \n",
    "\n"
   ]
  },
  {
   "cell_type": "code",
   "execution_count": 42,
   "metadata": {},
   "outputs": [
    {
     "data": {
      "image/png": "[encoded data removed]",
      "text/plain": [
       "<matplotlib.figure.Figure at 0x1fb9b76d128>"
      ]
     },
     "metadata": {},
     "output_type": "display_data"
    }
   ],
   "source": [
    "plt.figure(figsize=(7,6))\n",
    "\n",
    "plt.ylabel('$- \\log_{10} \\|| M_{21} -  \\Phi_{ \\mathcal{M}, 21}^i (x_0) \\||_{\\infty} $',size = 18 )\n",
    "\n",
    "plt.xlabel(\"$i$\",size = 18)\n",
    "\n",
    "plt.bar((range(20)),-np.log10(plot))\n"
   ]
  },
  {
   "cell_type": "markdown",
   "metadata": {},
   "source": [
    "Evaluate the integral with Eltons Theorem"
   ]
  },
  {
   "cell_type": "code",
   "execution_count": 34,
   "metadata": {},
   "outputs": [],
   "source": [
    "def elt(X,size = 21):\n",
    "    \n",
    "    ans = np.zeros(size)\n",
    "    \n",
    "    for k in range(size):\n",
    "        \n",
    "        i , j = tau_inv(k)\n",
    "        \n",
    "        ans[k] = np.sum(np.power(X[:,0],i)*np.power(X[:,1],j),axis = 0)/len(X)\n",
    "    \n",
    "    return ans"
   ]
  },
  {
   "cell_type": "code",
   "execution_count": 35,
   "metadata": {},
   "outputs": [
    {
     "data": {
      "text/plain": [
       "array([1.        , 0.45787645, 0.26093047, 0.27087659, 0.09955831,\n",
       "       0.11314294, 0.18396728, 0.04742562, 0.03929397, 0.05871955,\n",
       "       0.13573601, 0.02646494, 0.01624755, 0.01932706, 0.03355238,\n",
       "       0.10571572, 0.01650395, 0.00779515, 0.0072837 , 0.01067321,\n",
       "       0.02038933])"
      ]
     },
     "execution_count": 35,
     "metadata": {},
     "output_type": "execute_result"
    }
   ],
   "source": [
    "elt(X_STEEM,size = 21)"
   ]
  },
  {
   "cell_type": "code",
   "execution_count": 36,
   "metadata": {},
   "outputs": [],
   "source": [
    "plot_elt = np.zeros((100,21))\n",
    "\n",
    "for i in range(100):\n",
    "    \n",
    "    plot_elt[i,:] = elt(X_STEEM[:10000*(i+1)],size = 21)\n",
    "    \n"
   ]
  },
  {
   "cell_type": "code",
   "execution_count": 43,
   "metadata": {},
   "outputs": [
    {
     "data": {
      "image/png": "[encoded data removed]",
      "text/plain": [
       "<matplotlib.figure.Figure at 0x1fb9b751240>"
      ]
     },
     "metadata": {},
     "output_type": "display_data"
    }
   ],
   "source": [
    "t = np.linspace(1,1000000,100)\n",
    "\n",
    "plt.figure(figsize=(7,6))\n",
    "plt.ylim(0,0.01)        \n",
    "plt.plot(t,1/np.sqrt(t),color = 'red')   \n",
    "plt.xlabel('Iterations : $i$',size = 18)\n",
    "plt.ylabel('$\\|| M_{21} - M_{elt,i} \\|\\|_{\\infty}$',size = 18)\n",
    "plt.plot(t,(np.max(np.abs(plot_elt - STEEM_DIRECT_M.T),axis = 1)))\n"
   ]
  },
  {
   "cell_type": "code",
   "execution_count": null,
   "metadata": {},
   "outputs": [],
   "source": []
  }
 ],
 "metadata": {
  "kernelspec": {
   "display_name": "Python 3",
   "language": "python",
   "name": "python3"
  },
  "language_info": {
   "codemirror_mode": {
    "name": "ipython",
    "version": 3
   },
   "file_extension": ".py",
   "mimetype": "text/x-python",
   "name": "python",
   "nbconvert_exporter": "python",
   "pygments_lexer": "ipython3",
   "version": "3.6.4"
  }
 },
 "nbformat": 4,
 "nbformat_minor": 2
}
