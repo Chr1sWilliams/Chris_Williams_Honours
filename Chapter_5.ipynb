{
 "cells": [
  {
   "cell_type": "code",
   "execution_count": 2,
   "metadata": {},
   "outputs": [],
   "source": [
    "from PIL import Image\n",
    "import matplotlib.pyplot as plt\n",
    "import random\n",
    "import numpy as np\n",
    "#this file contains the moment functions made in Chapter 3\n",
    "import Moment_Function as mf\n",
    "%matplotlib inline"
   ]
  },
  {
   "cell_type": "markdown",
   "metadata": {},
   "source": [
    "# Generation of a Graph Directed IFS"
   ]
  },
  {
   "cell_type": "markdown",
   "metadata": {},
   "source": [
    "This is a function to generate the IFS for a Generalised Sierpinski Triangle"
   ]
  },
  {
   "cell_type": "code",
   "execution_count": 3,
   "metadata": {},
   "outputs": [],
   "source": [
    "def GSP(a = 1.1, b = 0.85, par = 'FFF', imgxy = 480, it = 50000, IFS = False):\n",
    "    \n",
    "    #co ordinates of triangles third vertex\n",
    "    Cy=(float)(0.5*np.sqrt(-1 + 2*a**2 - a**4 + 2*b**2 + 2*a**2*b**2 - b**4))\n",
    "    Cx=(float)(0.5*(1 - a**2 + b**2))\n",
    "\n",
    "    #angles for roatation\n",
    "    cosA=(float)(Cx/b)\n",
    "    sinA=(float)(Cy/b)\n",
    "    cosB=(float)((1.0-Cx)/a)\n",
    "    sinB=(float)(Cy/a)\n",
    "    \n",
    "    #view box\n",
    "    xa = min(-0.2,Cx-0.2)\n",
    "    xb = max(1.2,Cx+0.2)\n",
    "    ya =-0.2\n",
    "    yb = max(1.2,Cy+0.2)\n",
    "    \n",
    "    #starting values\n",
    "    x=0.0\n",
    "    y=0.0\n",
    "    \n",
    "    #image \n",
    "    image = Image.new(\"RGB\", (imgxy, imgxy),\"white\")\n",
    "\n",
    "    if par == 'FFF':\n",
    "        \n",
    "        alphaFFF=(float)(-(-1 + a**2 - b**2))/(float)(2*b)\n",
    "        betaFFF=(float)(-(-1 - a**2 + b**2))/(float)(2*a)\n",
    "        gammaFFF=(float)(-(1 - a**2 - b**2))/(float)(2*a*b)\n",
    "        \n",
    "        detaFFF=alphaFFF*alphaFFF\n",
    "        detbFFF=betaFFF*betaFFF\n",
    "        detgFFF=gammaFFF*gammaFFF\n",
    "        pnormFFF=(detaFFF+detbFFF+detgFFF)\n",
    "        paFFF=(float)(detaFFF)/(float)(pnormFFF)\n",
    "        pbFFF=(float)(detbFFF)/(float)(pnormFFF)\n",
    "        pgFFF=(float)(detgFFF)/(float)(pnormFFF)\n",
    "        \n",
    "        FFF=[[cosA*alphaFFF,sinA*alphaFFF,sinA*alphaFFF,-cosA*alphaFFF,0.0,0.0,paFFF],[betaFFF*cosB,-betaFFF*sinB,-betaFFF*sinB,-betaFFF*cosB,1.0-betaFFF*cosB,sinB*betaFFF,pbFFF],[-(gammaFFF*(cosA*cosB + sinA*sinB)),gammaFFF*(-(cosB*sinA) + cosA*sinB),-(gammaFFF*(cosB*sinA - cosA*sinB)),gammaFFF*(cosA*cosB + sinA*sinB),1.0-betaFFF*cosB,betaFFF*sinB,pgFFF]]\n",
    "\n",
    "        mat=FFF\n",
    "        \n",
    "        def f(d) : \n",
    "            return [alphaFFF**d[0]+betaFFF**d[0]+gammaFFF**d[0]-1]\n",
    "        \n",
    "        alpha = alphaFFF\n",
    "        \n",
    "    if par == 'FFN':\n",
    "        \n",
    "        alphaNFF=(float)(b)/float((a**2 + b**2))\n",
    "        betaNFF=(float)(a)/(float)(a**2 + b**2)\n",
    "        gammaNFF=-1.0*(float)(1.0-a**2-b**2)/(float)(a**2 + b**2)\n",
    "        \n",
    "        detaNFF=alphaNFF*alphaNFF\n",
    "        detbNFF=betaNFF*betaNFF\n",
    "        detgNFF=gammaNFF*gammaNFF\n",
    "        pnormNFF=(detaNFF+detbNFF+detgNFF)\n",
    "        paNFF=(float)(detaNFF)/(float)(pnormNFF)\n",
    "        pbNFF=(float)(detbNFF)/(float)(pnormNFF)\n",
    "        pgNFF=(float)(detgNFF)/(float)(pnormNFF)\n",
    "        \n",
    "        NFF=[[cosA*alphaNFF,sinA*alphaNFF,sinA*alphaNFF,-cosA*alphaNFF,0.0,0.0,paNFF],[betaNFF*cosB,-betaNFF*sinB,-betaNFF*sinB,-betaNFF*cosB,1.0-betaNFF*cosB,sinB*betaNFF,pbNFF],[gammaNFF,0.0,0.0,gammaNFF,(1.0-gammaNFF)*Cx,(1.0-gammaNFF)*Cy,pgNFF]]\n",
    "        \n",
    "        mat=NFF\n",
    "        \n",
    "        def f(d) : \n",
    "            return [alphaNFF**d[0]+betaNFF**d[0]+gammaNFF**d[0]-1]\n",
    "        \n",
    "        alpha = alphaFFN\n",
    "        \n",
    "    if par == 'FNN':\n",
    "        \n",
    "        alphaNNF=(float)(b/(1.0 + b**2))\n",
    "        betaNNF=(float)(1.0/(1.0 + b**2))\n",
    "        gammaNNF=(float)(b**2/(1.0 + b**2))\n",
    " \n",
    "        \n",
    "        detaNNF=alphaNNF*alphaNNF\n",
    "        detbNNF=betaNNF*betaNNF\n",
    "        detgNNF=gammaNNF*gammaNNF\n",
    "        pnormNNF=(detaNNF+detbNNF+detgNNF)\n",
    "        paNNF=(float)(detaNNF)/(float)(pnormNNF)\n",
    "        pbNNF=(float)(detbNNF)/(float)(pnormNNF)\n",
    "        pgNNF=(float)(detgNNF)/(float)(pnormNNF)\n",
    "        \n",
    "        NNF=[[cosA*alphaNNF,sinA*alphaNNF,sinA*alphaNNF,-cosA*alphaNNF,0.0,0.0,paNNF],[betaNNF,0.0,0.0,betaNNF,(1.0-betaNNF),0,pbNNF],[gammaNNF,0.0,0.0,gammaNNF,(1.0-gammaNNF)*Cx,(1.0-gammaNNF)*Cy,pgNNF]]\n",
    "\n",
    "        mat=NNF \n",
    "        \n",
    "        def f(d) : \n",
    "            return [alphaNNF**d[0]+betaNNF**d[0]+gammaNNF**d[0]-1] \n",
    "        \n",
    "        alpha = alphaNNF\n",
    "        \n",
    "    if par == 'NNN':\n",
    "        NNN=[[0.5,0.0,0.0,0.5,0.0,0.0,1/3],[0.5,0.0,0.0,0.5,0.5,0,1/3],[0.5,0.0,0.0,0.5,0.5*Cx,0.5*Cy,1/3]]\n",
    "    \n",
    "        mat=NNN \n",
    "        \n",
    "        def f(d) : \n",
    "            return [(0.5)**d[0]+(0.5)**d[0]+(0.5)**d[0]-1] \n",
    "        \n",
    "        alpha = 1/2\n",
    "        \n",
    "\n",
    "    for k in range(it):\n",
    "\n",
    "        p=random.random() \n",
    "        if p <= mat[0][6]:\n",
    "            i=0\n",
    "        elif p <= mat[0][6] + mat[1][6]:\n",
    "            i=1\n",
    "        else:\n",
    "            i=2\n",
    "\n",
    "        x0 = x * mat[i][0] + y * mat[i][1] + mat[i][4] \n",
    "        y  = x * mat[i][2] + y * mat[i][3] + mat[i][5] \n",
    "        x = x0 \n",
    "        jx = int((x - xa) / (xb - xa) * (imgxy - 1)) \n",
    "        jy = (imgxy - 1) - int((y - ya) / (yb - ya) * (imgxy - 1))\n",
    "\n",
    "        if i==2:\n",
    "             image.putpixel((jx, jy), (255,0,0,255))\n",
    "        elif i==1: \n",
    "             image.putpixel((jx, jy), (255,255,0,255))\n",
    "        elif i==0:\n",
    "             image.putpixel((jx, jy), (0,0,255,255))\n",
    "                \n",
    "    if IFS:\n",
    "        \n",
    "        return image, mat ,alpha\n",
    "    \n",
    "    return image\n",
    "\n",
    "    "
   ]
  },
  {
   "cell_type": "markdown",
   "metadata": {},
   "source": [
    "Make a Pedal triangle (FFF)"
   ]
  },
  {
   "cell_type": "code",
   "execution_count": 4,
   "metadata": {},
   "outputs": [
    {
     "name": "stdout",
     "output_type": "stream",
     "text": [
      "[[0.09088451557093417, 0.28744481279085693, 0.28744481279085693, -0.09088451557093417, 0.0, 0.0, 0.11407480752424524], [0.45716038223140504, -0.4981613866503913, -0.4981613866503913, -0.45716038223140504, 0.542839617768595, 0.4981613866503913, 0.5738104261562041], [-0.4519551021976607, -0.21071657385953432, -0.21071657385953432, 0.4519551021976607, 0.542839617768595, 0.4981613866503913, 0.3121147663195507]]\n",
      "0.301470588235294\n"
     ]
    }
   ],
   "source": [
    "img_p, IFS_p, alpha_p = GSP(par = 'FFF', IFS = True)\n",
    "print(IFS_p)\n",
    "print(alpha_p)"
   ]
  },
  {
   "cell_type": "code",
   "execution_count": 5,
   "metadata": {},
   "outputs": [
    {
     "data": {
      "image/png": "[encoded data removed]",
      "text/plain": [
       "<PIL.Image.Image image mode=RGB size=480x480 at 0x27A2EAF2C88>"
      ]
     },
     "execution_count": 5,
     "metadata": {},
     "output_type": "execute_result"
    }
   ],
   "source": [
    "img_p"
   ]
  },
  {
   "cell_type": "markdown",
   "metadata": {},
   "source": [
    "Make a Steemson triangle (FNN) with the same side lengths as above"
   ]
  },
  {
   "cell_type": "code",
   "execution_count": 6,
   "metadata": {},
   "outputs": [
    {
     "name": "stdout",
     "output_type": "stream",
     "text": [
      "[[0.14876632801161097, 0.4705103948263383, 0.4705103948263383, -0.14876632801161097, 0.0, 0.0, 0.3218970764728323], [0.5805515239477503, 0.0, 0.0, 0.5805515239477503, 0.41944847605224966, 0, 0.44553228577554643], [0.4194484760522496, 0.0, 0.0, 0.4194484760522496, 0.14876632801161094, 0.4705103948263383, 0.23257063775162132]]\n",
      "0.4934687953555878\n"
     ]
    }
   ],
   "source": [
    "img_s, IFS_s,alpha_s = GSP(par = 'FNN', IFS = True)\n",
    "print(IFS_s)\n",
    "print(alpha_s)"
   ]
  },
  {
   "cell_type": "code",
   "execution_count": 7,
   "metadata": {},
   "outputs": [
    {
     "data": {
      "image/png": "[encoded data removed]",
      "text/plain": [
       "<PIL.Image.Image image mode=RGB size=480x480 at 0x27A2EAE7940>"
      ]
     },
     "execution_count": 7,
     "metadata": {},
     "output_type": "execute_result"
    }
   ],
   "source": [
    "img_s"
   ]
  },
  {
   "cell_type": "markdown",
   "metadata": {},
   "source": [
    "Create a graph directed system by combining these two"
   ]
  },
  {
   "cell_type": "code",
   "execution_count": 43,
   "metadata": {},
   "outputs": [],
   "source": [
    "f1 = np.hstack(((alpha_s/alpha_p)*np.array([IFS_p[0][:2] , IFS_p[0][2:4]]), np.array([[IFS_p[0][4]],[IFS_p[0][5]]]) ) ) \n",
    "f2 = np.array([IFS_s[1][:2] + [IFS_s[1][4]], IFS_s[1][2:4] + [IFS_s[1][5]] ])\n",
    "f3 = np.array([IFS_s[2][:2] + [IFS_s[2][4]], IFS_s[2][2:4] + [IFS_s[2][5]] ])\n",
    "\n",
    "g1 = np.hstack(((alpha_p/alpha_s)*np.array([IFS_s[0][:2] , IFS_s[0][2:4]]), np.array([[IFS_s[0][4]],[IFS_s[0][5]]]) ) )\n",
    "g2 = np.array([IFS_p[1][:2] + [IFS_p[1][4]], IFS_p[1][2:4] + [IFS_p[1][5]] ])\n",
    "g3 = np.array([IFS_p[2][:2] + [IFS_p[2][4]], IFS_p[2][2:4] + [IFS_p[2][5]] ])\n",
    "\n",
    "pf1 = abs(np.linalg.det(f1[:,:2]))\n",
    "pf2 = abs(np.linalg.det(f2[:,:2]))\n",
    "pf3 = abs(np.linalg.det(f3[:,:2]))\n",
    "\n",
    "pf = pf1+pf2+pf3\n",
    "\n",
    "pf1 = pf1/pf\n",
    "pf2 = pf2/pf\n",
    "pf3 = pf3/pf\n",
    "\n",
    "pg1 = abs(np.linalg.det(g1[:,:2]))\n",
    "pg2 = abs(np.linalg.det(g2[:,:2]))\n",
    "pg3 = abs(np.linalg.det(g3[:,:2]))\n",
    "\n",
    "pg = pg1+pg2+pg3\n",
    "\n",
    "pg1 = pg1/pg\n",
    "pg2 = pg2/pg\n",
    "pg3 = pg3/pg"
   ]
  },
  {
   "cell_type": "code",
   "execution_count": 44,
   "metadata": {},
   "outputs": [],
   "source": [
    "F = [f1,f2,f3]\n",
    "G = [g1,g2,g3]"
   ]
  },
  {
   "cell_type": "markdown",
   "metadata": {},
   "source": [
    "The graph for this system can be coded as a row stochastic matrix"
   ]
  },
  {
   "cell_type": "code",
   "execution_count": 45,
   "metadata": {},
   "outputs": [],
   "source": [
    "P = np.array([[0,pf2,pf3,pf1,0,0],\\\n",
    "              [0,pf2,pf3,pf1,0,0],\\\n",
    "              [0,pf2,pf3,pf1,0,0],\\\n",
    "              [pg1,0,0,0,pg2,pg3],\\\n",
    "              [pg1,0,0,0,pg2,pg3],\\\n",
    "              [pg1,0,0,0,pg2,pg3],\\\n",
    "             ])"
   ]
  },
  {
   "cell_type": "markdown",
   "metadata": {},
   "source": [
    "Make a version of the chaos game with place dependent probabilities"
   ]
  },
  {
   "cell_type": "code",
   "execution_count": 46,
   "metadata": {},
   "outputs": [],
   "source": [
    "def GraphIFS(F ,G ,P ,x0 = np.array([0,0]), it = 100000, imgxy=500, xa = -0.2, xb = 1.2, ya = -0.2, yb = 1.2 ):\n",
    "    \n",
    "    F_img = Image.new(\"RGB\", (imgxy, imgxy),\"white\")\n",
    "    G_img = Image.new(\"RGB\", (imgxy, imgxy),\"white\")\n",
    "    nf = len(F)\n",
    "    ng = len(G)\n",
    "    \n",
    "    A = F[0][0:2,0:2]\n",
    "    b = F[0][:,2]\n",
    "    \n",
    "    x = A @ x0 + b\n",
    "    \n",
    "    X1 = []\n",
    "    X2 = []\n",
    "    \n",
    "    j = 0\n",
    "    \n",
    "    for i in range(it):\n",
    "        \n",
    "        p = P[j,:]\n",
    "        j_old = j \n",
    "        j = np.random.choice(nf+ng, p=p)\n",
    "        \n",
    "        if (j < nf):\n",
    "            A = F[j][0:2,0:2]\n",
    "            b = F[j][:,2]\n",
    "            x = A @ x + b\n",
    "            jx = int((x[0] - xa) / (xb - xa) * (imgxy - 1)) \n",
    "            jy = (imgxy - 1) - int((x[1] - ya) / (yb - ya) * (imgxy - 1))\n",
    "            if (j_old < nf):\n",
    "                F_img.putpixel((jx, jy), (255,0,0,255))\n",
    "            else:\n",
    "                F_img.putpixel((jx, jy), (0,0,255,255))\n",
    "                \n",
    "            X1.append(x)\n",
    "        \n",
    "        else:\n",
    "            k = j - nf\n",
    "            A = G[k][0:2,0:2]\n",
    "            b = G[k][:,2]\n",
    "            x = A @ x + b\n",
    "            jx = int((x[0] - xa) / (xb - xa) * (imgxy - 1)) \n",
    "            jy = (imgxy - 1) - int((x[1] - ya) / (yb - ya) * (imgxy - 1))\n",
    "            if (j_old < nf):\n",
    "                G_img.putpixel((jx, jy), (255,0,0,255))\n",
    "            else:\n",
    "                G_img.putpixel((jx, jy), (0,0,255,255))  \n",
    "                \n",
    "            X2.append(x)\n",
    "                \n",
    "    return F_img, G_img, np.array(X1), np.array(X2)"
   ]
  },
  {
   "cell_type": "code",
   "execution_count": 47,
   "metadata": {},
   "outputs": [],
   "source": [
    "F_img, G_img, A1, A2 = GraphIFS(F ,G ,P,it = 1000000 ,imgxy = 512)"
   ]
  },
  {
   "cell_type": "markdown",
   "metadata": {},
   "source": [
    "Make an image of the two metric spaces and their respective attractors "
   ]
  },
  {
   "cell_type": "code",
   "execution_count": 48,
   "metadata": {},
   "outputs": [
    {
     "data": {
      "image/png": "[encoded data removed]",
      "text/plain": [
       "<PIL.Image.Image image mode=RGB size=512x512 at 0x27A300C8EF0>"
      ]
     },
     "execution_count": 48,
     "metadata": {},
     "output_type": "execute_result"
    }
   ],
   "source": [
    "F_img"
   ]
  },
  {
   "cell_type": "code",
   "execution_count": 49,
   "metadata": {},
   "outputs": [
    {
     "data": {
      "image/png": "[encoded data removed]",
      "text/plain": [
       "<PIL.Image.Image image mode=RGB size=512x512 at 0x27A300C8E48>"
      ]
     },
     "execution_count": 49,
     "metadata": {},
     "output_type": "execute_result"
    }
   ],
   "source": [
    "G_img"
   ]
  },
  {
   "cell_type": "markdown",
   "metadata": {},
   "source": [
    "# Moment Calculations"
   ]
  },
  {
   "cell_type": "markdown",
   "metadata": {},
   "source": [
    "We aim to simply calculate the moments of the above vectorised system. There is a clear way to impliment this generally, we only present the outline to how this is done."
   ]
  },
  {
   "cell_type": "code",
   "execution_count": 50,
   "metadata": {},
   "outputs": [],
   "source": [
    "#number of moments\n",
    "n = 6\n",
    "\n",
    "#create stacked moment vector\n",
    "M1 = np.zeros((n,1))\n",
    "M1[0] = 1\n",
    "M2 = np.zeros((n,1))\n",
    "M2[0] = 1\n",
    "M = np.vstack((M1,M2))"
   ]
  },
  {
   "cell_type": "code",
   "execution_count": 51,
   "metadata": {},
   "outputs": [
    {
     "data": {
      "text/plain": [
       "array([[1., 0., 0., 0., 0., 0., 1., 0., 0., 0., 0., 0.]])"
      ]
     },
     "execution_count": 51,
     "metadata": {},
     "output_type": "execute_result"
    }
   ],
   "source": [
    "M.T"
   ]
  },
  {
   "cell_type": "code",
   "execution_count": 52,
   "metadata": {},
   "outputs": [],
   "source": [
    "def A(f,n=n):\n",
    "    \n",
    "    a_l,b_l,c_l,d_l,e_l,f_l = np.hstack((f[:2,:2].flatten(),f[:,2].flatten()))\n",
    "    \n",
    "    return mf.A_r(a_l,b_l,c_l,d_l,e_l,f_l,N = n)"
   ]
  },
  {
   "cell_type": "markdown",
   "metadata": {},
   "source": [
    "Get probabilites"
   ]
  },
  {
   "cell_type": "code",
   "execution_count": 53,
   "metadata": {},
   "outputs": [],
   "source": [
    "p_1_1 = P[0,:3]\n",
    "p_1_2 = P[0,3:]\n",
    "p_2_1 = P[3,:3]\n",
    "p_2_2 = P[3,3:]"
   ]
  },
  {
   "cell_type": "markdown",
   "metadata": {},
   "source": [
    "Define the individual moment matrices"
   ]
  },
  {
   "cell_type": "code",
   "execution_count": 54,
   "metadata": {},
   "outputs": [],
   "source": [
    "Phi_1_1 = p_1_1[0]*A(g1) + p_1_1[1]*A(f2) + p_1_1[2]*A(f3)\n",
    "Phi_1_2 = p_1_2[0]*A(f1) + p_1_2[1]*A(g2) + p_1_2[2]*A(g3)\n",
    "Phi_2_1 = p_2_1[0]*A(g1) + p_2_1[1]*A(f2) + p_2_1[2]*A(f3)\n",
    "Phi_2_2 = p_2_2[0]*A(f1) + p_2_2[1]*A(g2) + p_2_2[2]*A(g3)"
   ]
  },
  {
   "cell_type": "code",
   "execution_count": 55,
   "metadata": {},
   "outputs": [],
   "source": [
    "Phi_1 = np.hstack((Phi_1_1,Phi_1_2 ))\n",
    "Phi_2 = np.hstack((Phi_2_1,Phi_2_2 ))"
   ]
  },
  {
   "cell_type": "markdown",
   "metadata": {},
   "source": [
    "Define the overall moment operator"
   ]
  },
  {
   "cell_type": "code",
   "execution_count": 56,
   "metadata": {},
   "outputs": [],
   "source": [
    "Phi = np.vstack((Phi_1,Phi_2))"
   ]
  },
  {
   "cell_type": "markdown",
   "metadata": {},
   "source": [
    "Check iterative formula"
   ]
  },
  {
   "cell_type": "code",
   "execution_count": 57,
   "metadata": {},
   "outputs": [],
   "source": [
    "Mom = np.linalg.matrix_power(Phi,20)@M"
   ]
  },
  {
   "cell_type": "markdown",
   "metadata": {},
   "source": [
    "Check with Eltons Theorem"
   ]
  },
  {
   "cell_type": "code",
   "execution_count": 58,
   "metadata": {},
   "outputs": [
    {
     "name": "stdout",
     "output_type": "stream",
     "text": [
      "[1.         0.43998638 0.25821049 0.25568518 0.09665378 0.1121077 ]\n",
      "[1.         0.43935483 0.25831376 0.25479081 0.09663246 0.11229615]\n"
     ]
    }
   ],
   "source": [
    "print(mf.elt(A1,size = n))\n",
    "print(Mom[:n].flatten())"
   ]
  },
  {
   "cell_type": "code",
   "execution_count": 59,
   "metadata": {},
   "outputs": [
    {
     "name": "stdout",
     "output_type": "stream",
     "text": [
      "[1.         0.45748128 0.26051318 0.27059667 0.09963949 0.11309985]\n",
      "[1.         0.45787376 0.26047939 0.27115215 0.0996301  0.11318838]\n"
     ]
    }
   ],
   "source": [
    "print(mf.elt(A2,size = n))\n",
    "print(Mom[n:].flatten())"
   ]
  },
  {
   "cell_type": "code",
   "execution_count": null,
   "metadata": {},
   "outputs": [],
   "source": []
  }
 ],
 "metadata": {
  "kernelspec": {
   "display_name": "Python 3",
   "language": "python",
   "name": "python3"
  },
  "language_info": {
   "codemirror_mode": {
    "name": "ipython",
    "version": 3
   },
   "file_extension": ".py",
   "mimetype": "text/x-python",
   "name": "python",
   "nbconvert_exporter": "python",
   "pygments_lexer": "ipython3",
   "version": "3.6.4"
  }
 },
 "nbformat": 4,
 "nbformat_minor": 2
}
